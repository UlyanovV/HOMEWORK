{
 "cells": [
  {
   "cell_type": "markdown",
   "metadata": {},
   "source": [
    "Вы работаете секретарем и вам постоянно приходят различные документы. Вы должны быть очень внимательны, чтобы не потерять ни один документ. Каталог документов хранится в следующем виде:"
   ]
  },
  {
   "cell_type": "code",
   "execution_count": 1,
   "metadata": {},
   "outputs": [],
   "source": [
    "documents = [\n",
    "    {'type': 'passport', 'number': '2207 876234', 'name': 'Василий Гупкин'},\n",
    "    {'type': 'invoice', 'number': '11-2', 'name': 'Геннадий Покемонов'},\n",
    "    {'type': 'insurance', 'number': '10006', 'name': 'Аристарх Павлов'}\n",
    "]"
   ]
  },
  {
   "cell_type": "markdown",
   "metadata": {},
   "source": [
    "Перечень полок, на которых находятся документы хранится в следующем виде:"
   ]
  },
  {
   "cell_type": "code",
   "execution_count": 2,
   "metadata": {},
   "outputs": [],
   "source": [
    "directories = {\n",
    "    '1': ['2207 876234', '11-2'],\n",
    "    '2': ['10006'],\n",
    "    '3': []\n",
    "}"
   ]
  },
  {
   "cell_type": "markdown",
   "metadata": {},
   "source": [
    "Необходимо реализовать пользовательские команды (внимание! это не название функций, которые должны быть выразительными, а команды, которые вводит пользователь, чтобы получить необходимый результат):\n",
    "  \n",
    "- p – people – команда, которая спросит номер документа и выведет имя человека, которому он принадлежит;  \n",
    "- s – shelf – команда, которая спросит номер документа и выведет номер полки, на которой он находится  \n",
    "*Правильно обработайте ситуации, когда пользователь будет вводить несуществующий документ*.\n",
    "- l – list – команда, которая выведет список всех документов в формате   \n",
    "**passport \"2207 876234\" \"Василий Гупкин\"**  \n",
    "- as – add shelf – команда, которая спросит номер новой полки и добавит ее в перечень. *Предусмотрите случай, когда пользователь добавляет полку, которая уже существует*.\n",
    "- d – delete – команда, которая спросит номер документа и удалит его из каталога и из перечня полок. *Предусмотрите сценарий, когда пользователь вводит несуществующий документ*;  \n",
    "- m – move – команда, которая спросит номер документа и целевую полку и переместит его с текущей полки на целевую. *Корректно обработайте кейсы, когда пользователь пытается переместить несуществующий документ или переместить документ на несуществующую полку*;  \n",
    "- a – add – команда, которая добавит новый документ в каталог и в перечень полок, спросив его номер, тип, имя владельца и номер полки, на котором он будет храниться. *Корректно обработайте ситуацию, когда пользователь будет пытаться добавить документ на несуществующую полку*."
   ]
  },
  {
   "cell_type": "code",
   "execution_count": 3,
   "metadata": {},
   "outputs": [],
   "source": [
    "def people(list_documents):\n",
    "    '''команда, которая спросит номер документа и выведет имя человека, которому он принадлежит'''\n",
    "    num_doc = input('Введите номер документа ')\n",
    "    for doc in documents:\n",
    "        if doc['number'] == num_doc:\n",
    "            print (doc['name'])"
   ]
  },
  {
   "cell_type": "code",
   "execution_count": 4,
   "metadata": {},
   "outputs": [],
   "source": [
    "def shelf(direct):\n",
    "    '''команда, которая спросит номер документа и выведет номер полки, на которой он находится'''\n",
    "    num_doc = input('Введите номер документа ')\n",
    "    x = []\n",
    "    for key, values in direct.items():\n",
    "        if  num_doc in values:\n",
    "            x.append(key)\n",
    "            print (f'Номер полки на которой находится документ - {key}')\n",
    "    if len(x) == 0:\n",
    "        print ('Данный документ не найден')"
   ]
  },
  {
   "cell_type": "code",
   "execution_count": 5,
   "metadata": {},
   "outputs": [],
   "source": [
    "def list (list_documents):\n",
    "    '''команда, которая выведет список всех документов'''\n",
    "    for document in list_documents:\n",
    "        print (f\"{document['type']} \\\"{document['number']}\\\" \\\"{document['name']}\\\"\")"
   ]
  },
  {
   "cell_type": "code",
   "execution_count": 6,
   "metadata": {},
   "outputs": [],
   "source": [
    "def add_shelf(direct):\n",
    "    '''команда, которая спросит номер новой полки и добавит ее в перечень'''\n",
    "    new_shelf = input('Введите номер новой полки ')\n",
    "    if new_shelf in direct.keys():\n",
    "        print ('Данная полка существует')\n",
    "    else:\n",
    "        direct[new_shelf]=[]\n",
    "        print (f'Полка {new_shelf} добавлена')"
   ]
  },
  {
   "cell_type": "code",
   "execution_count": 7,
   "metadata": {},
   "outputs": [],
   "source": [
    "def delete(list_documents, direct):\n",
    "    '''команда, которая спросит номер документа и удалит его из каталога и из перечня полок'''\n",
    "    num_doc = input('Введите номер документа который необходимо удалить ')\n",
    "    ind_doc = -1\n",
    "    av_doc = False\n",
    "    av_doc_dir = False\n",
    "    for document in list_documents:\n",
    "        if num_doc == document['number']:\n",
    "            av_doc = True\n",
    "    for document in list_documents:\n",
    "        ind_doc += 1\n",
    "        if num_doc == document['number']:\n",
    "            break\n",
    "    if av_doc == True:\n",
    "        list_documents.remove(list_documents[ind_doc])\n",
    "    for key, values in direct.items():\n",
    "        if  num_doc in values:\n",
    "            av_doc_dir = True\n",
    "    if av_doc_dir == True:\n",
    "        for key, values in direct.items():\n",
    "            if  num_doc in values:\n",
    "                values.remove(num_doc)\n",
    "    if av_doc == True and av_doc_dir == True:\n",
    "        print (f'Документ с номером {num_doc} удален из справочника и полки')\n",
    "    elif av_doc == True and av_doc_dir == False:\n",
    "        print (f'Документ с номером {num_doc} удален из справочника, в полке данный документ отсутствовал')\n",
    "    elif av_doc == False and av_doc_dir == True:\n",
    "        print (f'Документ с номером {num_doc} удален из полки, в справочнеке информация по данному документу отсутствовала')\n",
    "    elif av_doc == False and av_doc_dir == False:\n",
    "        print (f'Не возможно удалить документ с номером {num_doc}, т.к. информация по данному документу отсутствует')"
   ]
  },
  {
   "cell_type": "code",
   "execution_count": 8,
   "metadata": {},
   "outputs": [],
   "source": [
    "def move(list_documents, direct):\n",
    "    '''команда, которая спросит номер документа и целевую полку и переместит его с текущей полки на целевую'''\n",
    "    num_doc = []\n",
    "    num_shelf = []\n",
    "    var_move = []\n",
    "    x = 0\n",
    "    ex = 0\n",
    "    av_doc = False\n",
    "    av_doc_dir = False\n",
    "    while av_doc == False:\n",
    "        x += 1\n",
    "        if x == 1:\n",
    "            num_doc = input('Введите номер документа который необходимо переместить ')\n",
    "            for document in list_documents:\n",
    "                if num_doc == document['number']:\n",
    "                    av_doc = True\n",
    "        else:\n",
    "            var_move = input('Введеный номер документа отсутствует, для повторного ввода номера документа введите \"да\" , для отмены перемещения документа введите \"нет\" ')\n",
    "            if var_move == 'да':\n",
    "                num_doc = input('Введеный номер документа который необходимо переместить ')\n",
    "                for document in list_documents:\n",
    "                    if num_doc == document['number']:\n",
    "                        av_doc = True\n",
    "            else:\n",
    "                num_doc = None\n",
    "                ex = 1\n",
    "                print ('Отменено перемещение документа')\n",
    "                break\n",
    "    x = 0\n",
    "    if ex == 0:\n",
    "        while av_doc_dir == False:\n",
    "            x += 1\n",
    "            if x == 1:\n",
    "                num_shelf = input('Введите номер полки куда необходимо переместить документ ')\n",
    "                for key, values in direct.items():\n",
    "                    if  num_shelf in key:\n",
    "                        av_doc_dir = True\n",
    "            else:\n",
    "                var_move = input('Введеный номер полки отсутствует, для повторного ввода номера полки введите \"да\", для отмены перемещения документа введите \"нет\" ')\n",
    "                if var_move == 'да':\n",
    "                    num_shelf = input('Введите номер полки куда необходимо переместить документ ')\n",
    "                    for key, values in direct.items():\n",
    "                        if  num_shelf in key:\n",
    "                            av_doc_dir = True\n",
    "                else:\n",
    "                    ex = 1\n",
    "                    print ('Выполнение завершено')\n",
    "                    break\n",
    "        if ex == 0:\n",
    "            for key, values in direct.items():\n",
    "                if  num_doc in values:\n",
    "                    values.remove(num_doc)\n",
    "            for key, values in direct.items():\n",
    "                if  num_shelf == key:\n",
    "                    values.append(num_doc)      \n",
    "            \n",
    "            \n"
   ]
  },
  {
   "cell_type": "code",
   "execution_count": 9,
   "metadata": {},
   "outputs": [],
   "source": [
    "def add(list_documents, direct):\n",
    "    type_doc = input('Введите тип нового документа ')\n",
    "    num_doc = input('Введите номер нового документа ')\n",
    "    name_owner_doc = input('Введите имя владельца нового документа ')\n",
    "    num_shelf = []\n",
    "    av_doc_dir = False\n",
    "    x = 0\n",
    "    ex = 0\n",
    "    new_doc = {'type': type_doc,'number': num_doc,'name': name_owner_doc} \n",
    "    print (new_doc, type(new_doc)) \n",
    "    while av_doc_dir == False:\n",
    "        x += 1\n",
    "        if x == 1:\n",
    "            num_shelf = input('Введите номер полки куда необходимо поместить документ ')\n",
    "            for key, values in direct.items():\n",
    "                if  num_shelf in key:\n",
    "                    av_doc_dir = True\n",
    "        else:\n",
    "            var_move = input('Введеный номер полки отсутствует, для повторного ввода номера полки введите \"да\", для отмены ввода \"нет\", добавления полки ввидите \"add\" ')\n",
    "            if var_move == 'да':\n",
    "                num_shelf = input('Введите номер полки куда необходимо переместить документ ')\n",
    "                for key, values in direct.items():\n",
    "                    if  num_shelf in key:\n",
    "                        av_doc_dir = True\n",
    "            elif var_move == \"add\":\n",
    "                num_shelf = input('Введите номер новой полки куда необходимо переместить документ ')\n",
    "                direct[num_shelf]=[]\n",
    "                av_doc_dir = True\n",
    "            else:\n",
    "                ex = 1\n",
    "                print ('Отменен ввод документа')\n",
    "                break\n",
    "    if ex == 0:\n",
    "        for key, values in direct.items():\n",
    "            if  num_shelf == key:\n",
    "                values.append(num_doc)\n",
    "        list_documents.append(new_doc)\n",
    "#     print (list_documents, direct)\n",
    "     \n",
    "                \n",
    "    "
   ]
  },
  {
   "cell_type": "code",
   "execution_count": 12,
   "metadata": {},
   "outputs": [],
   "source": [
    "def main():\n",
    "    while True:\n",
    "        user_input = input('Введите команду ')\n",
    "        if user_input == 'p':\n",
    "            people(documents)\n",
    "        elif user_input == 's':\n",
    "            shelf(directories)\n",
    "        elif user_input == 'l':\n",
    "            list(documents)\n",
    "        elif user_input == 'as':\n",
    "            add_shelf(directories)\n",
    "        elif user_input == 'd':\n",
    "            delete(documents, directories)\n",
    "        elif user_input == 'm':\n",
    "            move(documents, directories)\n",
    "        elif user_input == 'a':\n",
    "            add(documents, directories)\n",
    "        elif user_input == 'q':\n",
    "            print('До свидание')\n",
    "            break\n",
    "            "
   ]
  },
  {
   "cell_type": "code",
   "execution_count": 13,
   "metadata": {},
   "outputs": [
    {
     "name": "stdout",
     "output_type": "stream",
     "text": [
      "Введите команду l\n",
      "passport \"2207 876234\" \"Василий Гупкин\"\n",
      "invoice \"11-2\" \"Геннадий Покемонов\"\n",
      "insurance \"10006\" \"Аристарх Павлов\"\n",
      "Введите команду q\n",
      "До свидание\n"
     ]
    }
   ],
   "source": [
    "main()"
   ]
  }
 ],
 "metadata": {
  "kernelspec": {
   "display_name": "Python 3",
   "language": "python",
   "name": "python3"
  },
  "language_info": {
   "codemirror_mode": {
    "name": "ipython",
    "version": 3
   },
   "file_extension": ".py",
   "mimetype": "text/x-python",
   "name": "python",
   "nbconvert_exporter": "python",
   "pygments_lexer": "ipython3",
   "version": "3.7.6"
  }
 },
 "nbformat": 4,
 "nbformat_minor": 2
}
